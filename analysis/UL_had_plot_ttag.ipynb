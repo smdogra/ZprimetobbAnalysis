{
 "cells": [
  {
   "cell_type": "code",
   "execution_count": 1,
   "metadata": {},
   "outputs": [],
   "source": [
    "import time\n",
    "from coffea import hist, nanoevents, util\n",
    "import coffea.processor as processor\n",
    "import awkward as ak\n",
    "import numpy as np\n",
    "import glob as glob\n",
    "import re\n",
    "import itertools\n",
    "# import vector as vec\n",
    "from coffea.nanoevents.methods import vector, candidate\n",
    "from coffea.nanoevents import NanoAODSchema, BaseSchema\n",
    "from coffea.lumi_tools import LumiMask\n",
    "# for applying JECs\n",
    "from coffea.lookup_tools import extractor\n",
    "from coffea.jetmet_tools import FactorizedJetCorrector, JetCorrectionUncertainty\n",
    "from coffea.jetmet_tools import JECStack, CorrectedJetsFactory\n",
    "from coffea.jetmet_tools import JetResolution, JetResolutionScaleFactor\n",
    "# from jmeCorrections import JetMetCorrections\n",
    "import json\n",
    "\n",
    "\n",
    "import coffea.processor as processor\n",
    "from coffea import hist\n",
    "from coffea.analysis_tools import PackedSelection, Weights\n",
    "from coffea.nanoevents import NanoAODSchema, NanoEventsFactory\n",
    "from coffea.nanoevents.methods import nanoaod\n",
    "\n",
    "# NanoAODSchema.warn_missing_crossrefs = False\n",
    "\n",
    "import pickle\n",
    "# np.errstate(invalid='ignore', divide='ignore')\n",
    "\n",
    "\n",
    "\n",
    "import matplotlib.pyplot as plt\n",
    "%matplotlib inline"
   ]
  },
  {
   "cell_type": "code",
   "execution_count": 31,
   "metadata": {},
   "outputs": [],
   "source": [
    "from coffea.util import load, save\n",
    "#hists = load('/cms/scratch/sdogra/mtop/rishabh/decaf/analysis/hists/UL_had_full_2018.scaled')\n",
    "#hists = load('/cms/scratch/sdogra/mtop/rishabh/decaf/analysis/hists/UL_had_ttag_cutflow_2018.scaled')\n",
    "#hists = load('/cms/scratch/sdogra/BFF/Zprime2bAnalysis/decaf/analysis/hists/UL_BFF_v1_test_2017.scaled')\n",
    "hists = load('/cms/scratch/sdogra/BFF/Zprime2bAnalysis/decaf/analysis/hists/test_2017.scaled')\n",
    "#hists = load('/cms/scratch/sdogra/mtop/rishabh/decaf/analysis/hists/UL_had_ttag_cutflow_XY_2018_v1.scaled')\n",
    "# _v3: MET UL_had_ttag_cutflow_2018_v7.scaled\n",
    "#hists = load('/cms/scratch/sdogra/mtop/rishabh/decaf/analysis/hists/UL_had_test_2018_x.scaled')\n",
    "# _testtesttest\n",
    "#hists = load('/cms/scratch/sdogra/mtop/rishabh/decaf/analysis/hists/UL_had_ttag_cutflow_2018_testtesttest.scaled')\n",
    "#hists = load('/cms/scratch/sdogra/mtop/rishabh/decaf/analysis/hists/UL_had_ttag_cutflow_updateUL_2018_v1.scaled')\n",
    "\n",
    "## UL_had_ttag_cutflow_updateUL_2018_v1.scaled: ids_test \n",
    "\n",
    "data_hists = hists['data']\n",
    "bkg_hists = hists['bkg']\n",
    "sig_hists = hists['sig']"
   ]
  },
  {
   "cell_type": "code",
   "execution_count": 32,
   "metadata": {},
   "outputs": [
    {
     "data": {
      "text/plain": [
       "{'bkg': {'ele_phi': <Hist (process,region,ele_phi) instance at 0x7fa14f467208>,\n",
       "  'sumw': <Hist (process,sumw) instance at 0x7fa14f448710>,\n",
       "  'j1pt': <Hist (process,region,j1pt) instance at 0x7fa14f483b70>,\n",
       "  'bj2phi': <Hist (process,region,bj2phi) instance at 0x7fa14f44dcf8>,\n",
       "  'ndflvM': <Hist (process,region,ndflvM) instance at 0x7fa14f3e56d8>,\n",
       "  'dr_mu_lj': <Hist (process,region,dr_mu_lj) instance at 0x7fa14f3e5a58>,\n",
       "  'ele_pT': <Hist (process,region,ele_pT) instance at 0x7fa14f3e5da0>,\n",
       "  'bj2pt': <Hist (process,region,bj2pt) instance at 0x7fa14f4331d0>,\n",
       "  'dibjeteta': <Hist (process,region,dibjeteta) instance at 0x7fa14f433588>,\n",
       "  'bj3eta': <Hist (process,region,bj3eta) instance at 0x7fa14f433898>,\n",
       "  'mu_eta': <Hist (process,region,mu_eta) instance at 0x7fa14f433c88>,\n",
       "  'dibjetphi': <Hist (process,region,dibjetphi) instance at 0x7fa14f3d9080>,\n",
       "  'j1phi': <Hist (process,region,j1phi) instance at 0x7fa14f3d9390>,\n",
       "  'bj1phi': <Hist (process,region,bj1phi) instance at 0x7fa14f3d9780>,\n",
       "  'bj2eta': <Hist (process,region,bj2eta) instance at 0x7fa14f3d9b70>,\n",
       "  'cutflow': <Hist (process,region,cut) instance at 0x7fa14f3d9f60>,\n",
       "  'ndflvL': <Hist (process,region,ndflvL) instance at 0x7fa14f3e8390>,\n",
       "  'njets': <Hist (process,region,njets) instance at 0x7fa14f3e86d8>,\n",
       "  'bj3pt': <Hist (process,region,bj3pt) instance at 0x7fa14f3e8ac8>,\n",
       "  'mu_phi': <Hist (process,region,mu_phi) instance at 0x7fa14f3e8eb8>,\n",
       "  'bj3phi': <Hist (process,region,bj3phi) instance at 0x7fa14f3ec2e8>,\n",
       "  'dibjetmass': <Hist (process,region,dibjetmass) instance at 0x7fa14f3ec6a0>,\n",
       "  'ele_eta': <Hist (process,region,ele_eta) instance at 0x7fa14f3ec9b0>,\n",
       "  'dr_e_lj': <Hist (process,region,dr_e_lj) instance at 0x7fa14f3ecda0>,\n",
       "  'bj4pt': <Hist (process,region,bj4pt) instance at 0x7fa14f3f01d0>,\n",
       "  'bj1eta': <Hist (process,region,bj1eta) instance at 0x7fa14f3f05c0>,\n",
       "  'nbjets': <Hist (process,region,nbjets) instance at 0x7fa14f3f09b0>,\n",
       "  'dibjetpt': <Hist (process,region,dibjetpt) instance at 0x7fa14f3f0d68>,\n",
       "  'bj1pt': <Hist (process,region,bj1pt) instance at 0x7fa14f3f4160>,\n",
       "  'ndcsvM': <Hist (process,region,ndcsvM) instance at 0x7fa14f3f4550>,\n",
       "  'bj4phi': <Hist (process,region,bj4phi) instance at 0x7fa14f3f4898>,\n",
       "  'j1eta': <Hist (process,region,j1eta) instance at 0x7fa14f3f4eb8>,\n",
       "  'bj4eta': <Hist (process,region,bj4eta) instance at 0x7fa14f3f84e0>,\n",
       "  'mu_pT': <Hist (process,region,mu_pT) instance at 0x7fa14f3f8ac8>},\n",
       " 'sig': {'ele_phi': <Hist (process,region,ele_phi) instance at 0x7fa14f3fb0f0>,\n",
       "  'sumw': <Hist (process,sumw) instance at 0x7fa14f3fb128>,\n",
       "  'j1pt': <Hist (process,region,j1pt) instance at 0x7fa14f3fb198>,\n",
       "  'bj2phi': <Hist (process,region,bj2phi) instance at 0x7fa14f3fb208>,\n",
       "  'ndflvM': <Hist (process,region,ndflvM) instance at 0x7fa14f3fb278>,\n",
       "  'dr_mu_lj': <Hist (process,region,dr_mu_lj) instance at 0x7fa14f3fb2e8>,\n",
       "  'ele_pT': <Hist (process,region,ele_pT) instance at 0x7fa14f3fb358>,\n",
       "  'bj2pt': <Hist (process,region,bj2pt) instance at 0x7fa14f3fb3c8>,\n",
       "  'dibjeteta': <Hist (process,region,dibjeteta) instance at 0x7fa14f3fb438>,\n",
       "  'bj3eta': <Hist (process,region,bj3eta) instance at 0x7fa14f3fb4a8>,\n",
       "  'mu_eta': <Hist (process,region,mu_eta) instance at 0x7fa14f3fb518>,\n",
       "  'dibjetphi': <Hist (process,region,dibjetphi) instance at 0x7fa14f3fb588>,\n",
       "  'j1phi': <Hist (process,region,j1phi) instance at 0x7fa14f3fb5f8>,\n",
       "  'bj1phi': <Hist (process,region,bj1phi) instance at 0x7fa14f3fb668>,\n",
       "  'bj2eta': <Hist (process,region,bj2eta) instance at 0x7fa14f3fb6d8>,\n",
       "  'cutflow': <Hist (process,region,cut) instance at 0x7fa14f3fb748>,\n",
       "  'ndflvL': <Hist (process,region,ndflvL) instance at 0x7fa14f3fb7b8>,\n",
       "  'njets': <Hist (process,region,njets) instance at 0x7fa14f3fb828>,\n",
       "  'bj3pt': <Hist (process,region,bj3pt) instance at 0x7fa14f3fb898>,\n",
       "  'mu_phi': <Hist (process,region,mu_phi) instance at 0x7fa14f3fb908>,\n",
       "  'bj3phi': <Hist (process,region,bj3phi) instance at 0x7fa14f3fb978>,\n",
       "  'dibjetmass': <Hist (process,region,dibjetmass) instance at 0x7fa14f3fb9e8>,\n",
       "  'ele_eta': <Hist (process,region,ele_eta) instance at 0x7fa14f3fba58>,\n",
       "  'dr_e_lj': <Hist (process,region,dr_e_lj) instance at 0x7fa14f3fbac8>,\n",
       "  'bj4pt': <Hist (process,region,bj4pt) instance at 0x7fa14f3fbb38>,\n",
       "  'bj1eta': <Hist (process,region,bj1eta) instance at 0x7fa14f3fbba8>,\n",
       "  'nbjets': <Hist (process,region,nbjets) instance at 0x7fa14f3fbc18>,\n",
       "  'dibjetpt': <Hist (process,region,dibjetpt) instance at 0x7fa14f3fbc88>,\n",
       "  'bj1pt': <Hist (process,region,bj1pt) instance at 0x7fa14f3fbcf8>,\n",
       "  'ndcsvM': <Hist (process,region,ndcsvM) instance at 0x7fa14f3fbd68>,\n",
       "  'bj4phi': <Hist (process,region,bj4phi) instance at 0x7fa14f3fbdd8>,\n",
       "  'j1eta': <Hist (process,region,j1eta) instance at 0x7fa14f3fbe48>,\n",
       "  'bj4eta': <Hist (process,region,bj4eta) instance at 0x7fa14f3fbeb8>,\n",
       "  'mu_pT': <Hist (process,region,mu_pT) instance at 0x7fa14f3fbf28>},\n",
       " 'data': {'ele_phi': <Hist (process,region,ele_phi) instance at 0x7fa14f3fbf98>,\n",
       "  'sumw': <Hist (process,sumw) instance at 0x7fa14f406048>,\n",
       "  'j1pt': <Hist (process,region,j1pt) instance at 0x7fa14f4060b8>,\n",
       "  'bj2phi': <Hist (process,region,bj2phi) instance at 0x7fa14f406128>,\n",
       "  'ndflvM': <Hist (process,region,ndflvM) instance at 0x7fa14f406198>,\n",
       "  'dr_mu_lj': <Hist (process,region,dr_mu_lj) instance at 0x7fa14f406208>,\n",
       "  'ele_pT': <Hist (process,region,ele_pT) instance at 0x7fa14f406278>,\n",
       "  'bj2pt': <Hist (process,region,bj2pt) instance at 0x7fa14f4062e8>,\n",
       "  'dibjeteta': <Hist (process,region,dibjeteta) instance at 0x7fa14f406358>,\n",
       "  'bj3eta': <Hist (process,region,bj3eta) instance at 0x7fa14f4063c8>,\n",
       "  'mu_eta': <Hist (process,region,mu_eta) instance at 0x7fa14f406438>,\n",
       "  'dibjetphi': <Hist (process,region,dibjetphi) instance at 0x7fa14f4064a8>,\n",
       "  'j1phi': <Hist (process,region,j1phi) instance at 0x7fa14f406518>,\n",
       "  'bj1phi': <Hist (process,region,bj1phi) instance at 0x7fa14f406588>,\n",
       "  'bj2eta': <Hist (process,region,bj2eta) instance at 0x7fa14f4065f8>,\n",
       "  'cutflow': <Hist (process,region,cut) instance at 0x7fa14f406668>,\n",
       "  'ndflvL': <Hist (process,region,ndflvL) instance at 0x7fa14f4066d8>,\n",
       "  'njets': <Hist (process,region,njets) instance at 0x7fa14f406748>,\n",
       "  'bj3pt': <Hist (process,region,bj3pt) instance at 0x7fa14f4067b8>,\n",
       "  'mu_phi': <Hist (process,region,mu_phi) instance at 0x7fa14f406828>,\n",
       "  'bj3phi': <Hist (process,region,bj3phi) instance at 0x7fa14f406898>,\n",
       "  'dibjetmass': <Hist (process,region,dibjetmass) instance at 0x7fa14f406908>,\n",
       "  'ele_eta': <Hist (process,region,ele_eta) instance at 0x7fa14f406978>,\n",
       "  'dr_e_lj': <Hist (process,region,dr_e_lj) instance at 0x7fa14f4069e8>,\n",
       "  'bj4pt': <Hist (process,region,bj4pt) instance at 0x7fa14f406a58>,\n",
       "  'bj1eta': <Hist (process,region,bj1eta) instance at 0x7fa14f406ac8>,\n",
       "  'nbjets': <Hist (process,region,nbjets) instance at 0x7fa14f406b38>,\n",
       "  'dibjetpt': <Hist (process,region,dibjetpt) instance at 0x7fa14f406ba8>,\n",
       "  'bj1pt': <Hist (process,region,bj1pt) instance at 0x7fa14f406c18>,\n",
       "  'ndcsvM': <Hist (process,region,ndcsvM) instance at 0x7fa14f406c88>,\n",
       "  'bj4phi': <Hist (process,region,bj4phi) instance at 0x7fa14f406cf8>,\n",
       "  'j1eta': <Hist (process,region,j1eta) instance at 0x7fa14f406d68>,\n",
       "  'bj4eta': <Hist (process,region,bj4eta) instance at 0x7fa14f406dd8>,\n",
       "  'mu_pT': <Hist (process,region,mu_pT) instance at 0x7fa14f406e48>}}"
      ]
     },
     "execution_count": 32,
     "metadata": {},
     "output_type": "execute_result"
    }
   ],
   "source": [
    "hists"
   ]
  },
  {
   "cell_type": "code",
   "execution_count": 34,
   "metadata": {},
   "outputs": [
    {
     "data": {
      "text/plain": [
       "{('QCD',\n",
       "  'sr'): array([   0.        ,    0.        ,    0.        ,    0.        ,\n",
       "           0.        ,    0.        ,    0.        ,    0.        ,\n",
       "           0.        ,    0.        ,    0.        ,    0.        ,\n",
       "           0.        , 1167.56006835,  578.64730377,  408.08140274,\n",
       "           0.        ,    0.        ,    0.        ,    0.        ,\n",
       "         587.36569153,    0.        ,  359.85913394,  508.33907284,\n",
       "           0.        ,    0.        ,  554.63146344,    0.        ,\n",
       "           0.        ,    0.        ,    0.        ,    0.        ,\n",
       "         190.71509593,    0.        ,    0.        ,  396.76487081,\n",
       "           0.        ,    0.        ,    0.        ,    0.        ,\n",
       "           0.        ,    0.        ,    0.        ,  487.33099744,\n",
       "         492.57284502,  630.20466114,  527.27016015,  372.17484327,\n",
       "           0.        ,    0.        ,    0.        ,    0.        ,\n",
       "         392.16444191,  529.23461576,    0.        ,    0.        ,\n",
       "           0.        ,    0.        ,    0.        ,    0.        ,\n",
       "           0.        ,    0.        ,    0.        ,    0.        ])}"
      ]
     },
     "execution_count": 34,
     "metadata": {},
     "output_type": "execute_result"
    }
   ],
   "source": [
    "bkg_hists['mu_phi'].values()"
   ]
  },
  {
   "cell_type": "code",
   "execution_count": 13,
   "metadata": {
    "scrolled": true
   },
   "outputs": [
    {
     "data": {
      "text/plain": [
       "[]"
      ]
     },
     "execution_count": 13,
     "metadata": {},
     "output_type": "execute_result"
    }
   ],
   "source": [
    "bkg_hists['nbjets'].identifiers('process')"
   ]
  },
  {
   "cell_type": "code",
   "execution_count": 14,
   "metadata": {},
   "outputs": [
    {
     "data": {
      "text/plain": [
       "[]"
      ]
     },
     "execution_count": 14,
     "metadata": {},
     "output_type": "execute_result"
    }
   ],
   "source": [
    "data_hists['nbjets'].identifiers('process')"
   ]
  },
  {
   "cell_type": "code",
   "execution_count": 35,
   "metadata": {
    "scrolled": true
   },
   "outputs": [
    {
     "data": {
      "text/plain": [
       "{'ele_phi': <Hist (process,region,ele_phi) instance at 0x7fa14f467208>,\n",
       " 'sumw': <Hist (process,sumw) instance at 0x7fa14f448710>,\n",
       " 'j1pt': <Hist (process,region,j1pt) instance at 0x7fa14f483b70>,\n",
       " 'bj2phi': <Hist (process,region,bj2phi) instance at 0x7fa14f44dcf8>,\n",
       " 'ndflvM': <Hist (process,region,ndflvM) instance at 0x7fa14f3e56d8>,\n",
       " 'dr_mu_lj': <Hist (process,region,dr_mu_lj) instance at 0x7fa14f3e5a58>,\n",
       " 'ele_pT': <Hist (process,region,ele_pT) instance at 0x7fa14f3e5da0>,\n",
       " 'bj2pt': <Hist (process,region,bj2pt) instance at 0x7fa14f4331d0>,\n",
       " 'dibjeteta': <Hist (process,region,dibjeteta) instance at 0x7fa14f433588>,\n",
       " 'bj3eta': <Hist (process,region,bj3eta) instance at 0x7fa14f433898>,\n",
       " 'mu_eta': <Hist (process,region,mu_eta) instance at 0x7fa14f433c88>,\n",
       " 'dibjetphi': <Hist (process,region,dibjetphi) instance at 0x7fa14f3d9080>,\n",
       " 'j1phi': <Hist (process,region,j1phi) instance at 0x7fa14f3d9390>,\n",
       " 'bj1phi': <Hist (process,region,bj1phi) instance at 0x7fa14f3d9780>,\n",
       " 'bj2eta': <Hist (process,region,bj2eta) instance at 0x7fa14f3d9b70>,\n",
       " 'cutflow': <Hist (process,region,cut) instance at 0x7fa14f3d9f60>,\n",
       " 'ndflvL': <Hist (process,region,ndflvL) instance at 0x7fa14f3e8390>,\n",
       " 'njets': <Hist (process,region,njets) instance at 0x7fa14f3e86d8>,\n",
       " 'bj3pt': <Hist (process,region,bj3pt) instance at 0x7fa14f3e8ac8>,\n",
       " 'mu_phi': <Hist (process,region,mu_phi) instance at 0x7fa14f3e8eb8>,\n",
       " 'bj3phi': <Hist (process,region,bj3phi) instance at 0x7fa14f3ec2e8>,\n",
       " 'dibjetmass': <Hist (process,region,dibjetmass) instance at 0x7fa14f3ec6a0>,\n",
       " 'ele_eta': <Hist (process,region,ele_eta) instance at 0x7fa14f3ec9b0>,\n",
       " 'dr_e_lj': <Hist (process,region,dr_e_lj) instance at 0x7fa14f3ecda0>,\n",
       " 'bj4pt': <Hist (process,region,bj4pt) instance at 0x7fa14f3f01d0>,\n",
       " 'bj1eta': <Hist (process,region,bj1eta) instance at 0x7fa14f3f05c0>,\n",
       " 'nbjets': <Hist (process,region,nbjets) instance at 0x7fa14f3f09b0>,\n",
       " 'dibjetpt': <Hist (process,region,dibjetpt) instance at 0x7fa14f3f0d68>,\n",
       " 'bj1pt': <Hist (process,region,bj1pt) instance at 0x7fa14f3f4160>,\n",
       " 'ndcsvM': <Hist (process,region,ndcsvM) instance at 0x7fa14f3f4550>,\n",
       " 'bj4phi': <Hist (process,region,bj4phi) instance at 0x7fa14f3f4898>,\n",
       " 'j1eta': <Hist (process,region,j1eta) instance at 0x7fa14f3f4eb8>,\n",
       " 'bj4eta': <Hist (process,region,bj4eta) instance at 0x7fa14f3f84e0>,\n",
       " 'mu_pT': <Hist (process,region,mu_pT) instance at 0x7fa14f3f8ac8>}"
      ]
     },
     "execution_count": 35,
     "metadata": {},
     "output_type": "execute_result"
    }
   ],
   "source": [
    "bkg_hists"
   ]
  },
  {
   "cell_type": "code",
   "execution_count": 45,
   "metadata": {},
   "outputs": [],
   "source": [
    "vari = 'nbjets' # 'cutflow'  # 'drfjtop' #'fj1pt' # 'leading_tvsqcd' # 'leading_qWmatchedJet'\n",
    "region = 'sr'"
   ]
  },
  {
   "cell_type": "code",
   "execution_count": 43,
   "metadata": {},
   "outputs": [
    {
     "ename": "NameError",
     "evalue": "name 'QCD_HT300to500_TuneCP5_PSWeights_13TeV' is not defined",
     "output_type": "error",
     "traceback": [
      "\u001b[0;31m---------------------------------------------------------------------------\u001b[0m",
      "\u001b[0;31mNameError\u001b[0m                                 Traceback (most recent call last)",
      "\u001b[0;32m<ipython-input-43-79e97e04b68f>\u001b[0m in \u001b[0;36m<module>\u001b[0;34m\u001b[0m\n\u001b[0;32m----> 1\u001b[0;31m \u001b[0mQCD_HT300to500_TuneCP5_PSWeights_13TeV\u001b[0m\u001b[0;34m-\u001b[0m\u001b[0mmadgraph\u001b[0m\u001b[0;34m-\u001b[0m\u001b[0mpythia8____3_\u001b[0m\u001b[0;34m\u001b[0m\u001b[0m\n\u001b[0m",
      "\u001b[0;31mNameError\u001b[0m: name 'QCD_HT300to500_TuneCP5_PSWeights_13TeV' is not defined"
     ]
    }
   ],
   "source": [
    "QCD_HT300to500_TuneCP5_PSWeights_13TeV-madgraph-pythia8____3_"
   ]
  },
  {
   "cell_type": "code",
   "execution_count": 46,
   "metadata": {},
   "outputs": [
    {
     "data": {
      "text/plain": [
       "{('QCD',\n",
       "  'sr'): array([3.88716608e+07, 9.35370452e+06, 1.74458092e+06, 1.91538252e+05,\n",
       "        1.76210048e+04, 0.00000000e+00, 0.00000000e+00, 0.00000000e+00,\n",
       "        0.00000000e+00, 0.00000000e+00])}"
      ]
     },
     "execution_count": 46,
     "metadata": {},
     "output_type": "execute_result"
    }
   ],
   "source": [
    "bkg_hists[vari].values()"
   ]
  },
  {
   "cell_type": "code",
   "execution_count": 47,
   "metadata": {},
   "outputs": [
    {
     "data": {
      "text/plain": [
       "<AxesSubplot:xlabel='AK4 Number of deepCSV Medium BJets', ylabel='Events'>"
      ]
     },
     "execution_count": 47,
     "metadata": {},
     "output_type": "execute_result"
    },
    {
     "data": {
      "image/png": "[encoded data removed]",
      "text/plain": [
       "<Figure size 432x288 with 1 Axes>"
      ]
     },
     "metadata": {
      "needs_background": "light"
     },
     "output_type": "display_data"
    }
   ],
   "source": [
    "from coffea.hist import plot\n",
    "\n",
    "#plot.plot1d(bkg_hists['bj1pt'].integrate('region',region), stack=True)\n",
    "plot.plot1d(bkg_hists[vari].integrate('region',region), stack=True)\n"
   ]
  },
  {
   "cell_type": "code",
   "execution_count": 10,
   "metadata": {},
   "outputs": [
    {
     "ename": "ValueError",
     "evalue": "Plotting multiple histograms with different binning is not supported",
     "output_type": "error",
     "traceback": [
      "\u001b[0;31m---------------------------------------------------------------------------\u001b[0m",
      "\u001b[0;31mValueError\u001b[0m                                Traceback (most recent call last)",
      "\u001b[0;32m<ipython-input-10-c49b8ea06943>\u001b[0m in \u001b[0;36m<module>\u001b[0;34m\u001b[0m\n\u001b[1;32m      9\u001b[0m           '#6a3d9a', '#a9ce26', '#ffff99', '#b15928', '#edcc43']\n\u001b[1;32m     10\u001b[0m \u001b[0max\u001b[0m\u001b[0;34m.\u001b[0m\u001b[0mset_prop_cycle\u001b[0m\u001b[0;34m(\u001b[0m\u001b[0mcycler\u001b[0m\u001b[0;34m(\u001b[0m\u001b[0mcolor\u001b[0m\u001b[0;34m=\u001b[0m\u001b[0mcolors\u001b[0m\u001b[0;34m)\u001b[0m\u001b[0;34m)\u001b[0m\u001b[0;34m\u001b[0m\u001b[0m\n\u001b[0;32m---> 11\u001b[0;31m \u001b[0mplot\u001b[0m\u001b[0;34m.\u001b[0m\u001b[0mplot1d\u001b[0m\u001b[0;34m(\u001b[0m\u001b[0mbkg_hists\u001b[0m\u001b[0;34m[\u001b[0m\u001b[0mvari\u001b[0m\u001b[0;34m]\u001b[0m\u001b[0;34m.\u001b[0m\u001b[0mintegrate\u001b[0m\u001b[0;34m(\u001b[0m\u001b[0;34m'region'\u001b[0m\u001b[0;34m,\u001b[0m\u001b[0mregion\u001b[0m\u001b[0;34m)\u001b[0m\u001b[0;34m,\u001b[0m \u001b[0mstack\u001b[0m\u001b[0;34m=\u001b[0m\u001b[0;32mTrue\u001b[0m\u001b[0;34m)\u001b[0m\u001b[0;34m\u001b[0m\u001b[0m\n\u001b[0m\u001b[1;32m     12\u001b[0m \u001b[0;34m\u001b[0m\u001b[0m\n\u001b[1;32m     13\u001b[0m \u001b[0max\u001b[0m\u001b[0;34m.\u001b[0m\u001b[0m_get_lines\u001b[0m\u001b[0;34m.\u001b[0m\u001b[0mprop_cycler\u001b[0m \u001b[0;34m=\u001b[0m \u001b[0max\u001b[0m\u001b[0;34m.\u001b[0m\u001b[0m_get_patches_for_fill\u001b[0m\u001b[0;34m.\u001b[0m\u001b[0mprop_cycler\u001b[0m\u001b[0;34m\u001b[0m\u001b[0m\n",
      "\u001b[0;32m~/.local/lib/python3.6/site-packages/coffea/hist/plot.py\u001b[0m in \u001b[0;36mplot1d\u001b[0;34m(hist, ax, clear, overlay, stack, overflow, line_opts, fill_opts, error_opts, legend_opts, overlay_overflow, density, binwnorm, order)\u001b[0m\n\u001b[1;32m    300\u001b[0m             \u001b[0mbinwnorm\u001b[0m\u001b[0;34m=\u001b[0m\u001b[0mbinwnorm\u001b[0m\u001b[0;34m,\u001b[0m\u001b[0;34m\u001b[0m\u001b[0m\n\u001b[1;32m    301\u001b[0m             \u001b[0mstack\u001b[0m\u001b[0;34m=\u001b[0m\u001b[0mstack\u001b[0m\u001b[0;34m,\u001b[0m\u001b[0;34m\u001b[0m\u001b[0m\n\u001b[0;32m--> 302\u001b[0;31m             \u001b[0;34m**\u001b[0m\u001b[0mkwargs\u001b[0m\u001b[0;34m\u001b[0m\u001b[0m\n\u001b[0m\u001b[1;32m    303\u001b[0m         )\n\u001b[1;32m    304\u001b[0m \u001b[0;34m\u001b[0m\u001b[0m\n",
      "\u001b[0;32m~/.local/lib/python3.6/site-packages/mplhep/plot.py\u001b[0m in \u001b[0;36mhistplot\u001b[0;34m(H, bins, yerr, w2, stack, density, binwnorm, histtype, label, edges, binticks, ax, **kwargs)\u001b[0m\n\u001b[1;32m    164\u001b[0m             \u001b[0;32mif\u001b[0m \u001b[0mlen\u001b[0m\u001b[0;34m(\u001b[0m\u001b[0mset\u001b[0m\u001b[0;34m(\u001b[0m\u001b[0mmap\u001b[0m\u001b[0;34m(\u001b[0m\u001b[0mlen\u001b[0m\u001b[0;34m,\u001b[0m \u001b[0m_H\u001b[0m\u001b[0;34m)\u001b[0m\u001b[0;34m)\u001b[0m\u001b[0;34m)\u001b[0m \u001b[0;34m!=\u001b[0m \u001b[0;36m1\u001b[0m\u001b[0;34m:\u001b[0m\u001b[0;34m\u001b[0m\u001b[0m\n\u001b[1;32m    165\u001b[0m                 raise ValueError(\n\u001b[0;32m--> 166\u001b[0;31m                     \u001b[0;34m\"Plotting multiple histograms with different binning is not supported\"\u001b[0m\u001b[0;34m\u001b[0m\u001b[0m\n\u001b[0m\u001b[1;32m    167\u001b[0m                 )\n\u001b[1;32m    168\u001b[0m             \u001b[0mh\u001b[0m \u001b[0;34m=\u001b[0m \u001b[0mnp\u001b[0m\u001b[0;34m.\u001b[0m\u001b[0masarray\u001b[0m\u001b[0;34m(\u001b[0m\u001b[0m_H\u001b[0m\u001b[0;34m)\u001b[0m\u001b[0;34m.\u001b[0m\u001b[0mastype\u001b[0m\u001b[0;34m(\u001b[0m\u001b[0mfloat\u001b[0m\u001b[0;34m)\u001b[0m\u001b[0;34m\u001b[0m\u001b[0m\n",
      "\u001b[0;31mValueError\u001b[0m: Plotting multiple histograms with different binning is not supported"
     ]
    },
    {
     "data": {
      "image/png": "[encoded data removed]",
      "text/plain": [
       "<Figure size 936x792 with 1 Axes>"
      ]
     },
     "metadata": {
      "needs_background": "light"
     },
     "output_type": "display_data"
    }
   ],
   "source": [
    "from coffea.hist import plot\n",
    "from cycler import cycler\n",
    "\n",
    "plt.rcParams.update({'figure.max_open_warning': 0,'font.size': 14, 'axes.titlesize': 18, 'axes.labelsize': 18, 'xtick.labelsize': 12, 'ytick.labelsize': 12})\n",
    "fig, ax = plt.subplots(figsize=(13,11))\n",
    "fill_opts = {'edgecolor': (0,0,0,0.3), 'alpha': 1}\n",
    "colors = ['#a6cee3', '#3130db', '#1f78b4', '#b2df8a', '#48e926', '#33a02c', '#c0df26',\n",
    "          '#fb9a99', '#d02ba7', '#e31a1c', '#fdbf6f', '#ff7f00', '#cab2d6', '#c64bc4',\n",
    "          '#6a3d9a', '#a9ce26', '#ffff99', '#b15928', '#edcc43']\n",
    "ax.set_prop_cycle(cycler(color=colors))\n",
    "plot.plot1d(bkg_hists[vari].integrate('region',region), stack=True)\n",
    "\n",
    "ax._get_lines.prop_cycler = ax._get_patches_for_fill.prop_cycler\n",
    "args = {'linestyle':'--', 'linewidth': 5}\n",
    "#ax.set_yscale('log')\n",
    "#ax.set_ylim(.0000001, 10)\n",
    "#ax.set_ylim(0.1, 100000)"
   ]
  },
  {
   "cell_type": "code",
   "execution_count": 4,
   "metadata": {
    "scrolled": false
   },
   "outputs": [
    {
     "data": {
      "text/plain": [
       "<Hist (process,region,cut) instance at 0x7ff99be42208>"
      ]
     },
     "execution_count": 4,
     "metadata": {},
     "output_type": "execute_result"
    }
   ],
   "source": [
    "sig_hists[vari]#.identifiers('process')"
   ]
  },
  {
   "cell_type": "code",
   "execution_count": 8,
   "metadata": {},
   "outputs": [
    {
     "name": "stdout",
     "output_type": "stream",
     "text": [
      "117518.0\n",
      "50261.0\n",
      "30293.0\n",
      "14883.0\n",
      "14691.0\n",
      "1667.0\n",
      "1342.0\n",
      "1332.0\n",
      "349.0\n",
      "67.0\n",
      "45.0\n",
      "45.0\n",
      "42.0\n",
      "0.0\n",
      "0.0\n"
     ]
    }
   ],
   "source": [
    "for i in range(15):\n",
    "    print(data_hists[vari].integrate('process').integrate('region').values()[()][i])"
   ]
  },
  {
   "cell_type": "code",
   "execution_count": 3,
   "metadata": {},
   "outputs": [
    {
     "data": {
      "text/plain": [
       "{('MET',): array([1.17518e+05, 5.02660e+04, 3.02940e+04, 1.48980e+04, 1.48980e+04,\n",
       "        1.34200e+03, 2.78000e+02, 7.80000e+01, 7.80000e+01, 6.80000e+01,\n",
       "        1.90000e+01, 0.00000e+00, 0.00000e+00, 0.00000e+00, 0.00000e+00,\n",
       "        0.00000e+00, 0.00000e+00])}"
      ]
     },
     "execution_count": 3,
     "metadata": {},
     "output_type": "execute_result"
    }
   ],
   "source": [
    "vari = 'cutflow' # 'cutflow'  # 'drfjtop' #'fj1pt' # 'leading_tvsqcd' # 'leading_qWmatchedJet'\n",
    "region = 'tmcr'\n",
    "#sig_hists[vari].integrate('region',region).integrate('tag','pass').sum(vari).values()\n",
    "#sig_hists[vari].integrate('region',region).values()\n",
    "##bkg_hists[vari].integrate('region',region).values()\n",
    "data_hists[vari].integrate('region',region).values()"
   ]
  },
  {
   "cell_type": "code",
   "execution_count": 43,
   "metadata": {},
   "outputs": [
    {
     "name": "stdout",
     "output_type": "stream",
     "text": [
      "pass: {('TT',): 67.1464976149}\n",
      "fail: {('TT',): 23870.579902096943}\n"
     ]
    }
   ],
   "source": [
    "vari = 'leading_qWmatchedJet' # 'cutflow'  # 'drfjtop' #'fj1pt' # 'leading_tvsqcd' # 'leading_qWmatchedJet'\n",
    "region = 'tmcr'\n",
    "#print('pass:', sig_hists[vari].integrate('region',region).integrate('tag','pass').sum(vari).values())\n",
    "#print('fail:', sig_hists[vari].integrate('region',region).integrate('tag','fail').sum(vari).values())\n",
    "print('pass:', bkg_hists[vari].integrate('region',region).integrate('tag','pass').sum(vari).values())\n",
    "print('fail:', bkg_hists[vari].integrate('region',region).integrate('tag','fail').sum(vari).values())"
   ]
  },
  {
   "cell_type": "code",
   "execution_count": 44,
   "metadata": {
    "scrolled": true
   },
   "outputs": [
    {
     "name": "stdout",
     "output_type": "stream",
     "text": [
      "=======  tmcr =======\n",
      "variable  leading_qWmatchedJet\n",
      "=====================\n",
      "() in yld_array\n",
      "TT 70.2\n"
     ]
    },
    {
     "data": {
      "text/plain": [
       "67.1464976149"
      ]
     },
     "execution_count": 44,
     "metadata": {},
     "output_type": "execute_result"
    }
   ],
   "source": [
    "cut_bin = None\n",
    "exp = 0\n",
    "#vari = 'fj1pt'\n",
    "#region = 'sr'\n",
    "print('======= ',region, '=======')\n",
    "print('variable ', vari)\n",
    "print('=====================')\n",
    "for p in bkg_hists[vari].identifiers('process'):\n",
    "    #print(p)\n",
    "    #yld_array = sig_hists[vari].integrate('region',region).integrate('process', p).integrate('tag','pass').sum().values(overflow='all')\n",
    "    yld_array = bkg_hists[vari].integrate('region',region).integrate('process', p).integrate('tag','pass').sum().values(overflow='all')\n",
    "    if () in yld_array:\n",
    "        print('() in yld_array')\n",
    "        #yld = np.cumsum(yld_array[()])[nbins-1]\n",
    "        yld = yld_array[()].sum()\n",
    "        if cut_bin!=None: yld = yld - np.cumsum(yld_array[()])[cut_bin]\n",
    "        #if cut_bin!=None: yld = np.cumsum(yld_array[()])[cut_bin]\n",
    "        exp += yld\n",
    "        print(p, '%.1f' % yld)\n",
    "#print(bkg_hists[vari].identifiers('process'))\n",
    "#sig_hists[vari].integrate('region',region).integrate('process').integrate('tag','pass').sum('qWmatchedJet').values()[()]\n",
    "bkg_hists[vari].integrate('region',region).integrate('process').integrate('tag','pass').sum(vari).values()[()]"
   ]
  },
  {
   "cell_type": "code",
   "execution_count": 10,
   "metadata": {},
   "outputs": [
    {
     "data": {
      "text/plain": [
       "<Hist (recoil) instance at 0x7f5857e5f748>"
      ]
     },
     "execution_count": 10,
     "metadata": {},
     "output_type": "execute_result"
    }
   ],
   "source": [
    "#sig_hists[vari].identifiers('process')\n",
    "#bkg_hists[vari].identifiers('process')\n",
    "data_hists['recoil'].integrate('region',region).integrate('process')"
   ]
  },
  {
   "cell_type": "code",
   "execution_count": 24,
   "metadata": {},
   "outputs": [
    {
     "data": {
      "text/plain": [
       "{('pass',): 67.1464976149, ('fail',): 23870.579902096943}"
      ]
     },
     "execution_count": 24,
     "metadata": {},
     "output_type": "execute_result"
    }
   ],
   "source": [
    "#sig_hists[vari].integrate('process').integrate('region',region).sum('qWmatchedJet').values()\n",
    "bkg_hists[vari].integrate('process').integrate('region',region).sum(vari).values()"
   ]
  },
  {
   "cell_type": "code",
   "execution_count": 45,
   "metadata": {
    "scrolled": false
   },
   "outputs": [
    {
     "data": {
      "text/plain": [
       "(0.1, 100000)"
      ]
     },
     "execution_count": 45,
     "metadata": {},
     "output_type": "execute_result"
    },
    {
     "data": {
      "image/png": "[encoded data removed]",
      "text/plain": [
       "<Figure size 936x792 with 1 Axes>"
      ]
     },
     "metadata": {
      "needs_background": "light"
     },
     "output_type": "display_data"
    }
   ],
   "source": [
    "from coffea.hist import plot\n",
    "from cycler import cycler\n",
    "vari = 'njets'\n",
    "\n",
    "region = 'sr'\n",
    "\n",
    "plt.rcParams.update({'figure.max_open_warning': 0,'font.size': 14, 'axes.titlesize': 18, 'axes.labelsize': 18, 'xtick.labelsize': 12, 'ytick.labelsize': 12})\n",
    "fig, ax = plt.subplots(figsize=(13,11))\n",
    "fill_opts = {'edgecolor': (0,0,0,0.3), 'alpha': 1}\n",
    "colors = ['#a6cee3', '#3130db', '#1f78b4', '#b2df8a', '#48e926', '#33a02c', '#c0df26',\n",
    "          '#fb9a99', '#d02ba7', '#e31a1c', '#fdbf6f', '#ff7f00', '#cab2d6', '#c64bc4',\n",
    "          '#6a3d9a', '#a9ce26', '#ffff99', '#b15928', '#edcc43']\n",
    "ax.set_prop_cycle(cycler(color=colors))\n",
    "plot.plot1d(bkg_hists[vari].integrate('region',region).integrate('process'),overlay=\"tag\", stack=True,clear=False, fill_opts=fill_opts, ax=ax)\n",
    "#plot.plot1d(sig_hists[vari].integrate('region',region).integrate('process'),overlay=\"tag\", stack=True,clear=False, fill_opts=fill_opts, ax=ax)\n",
    "#plot.plot1d(sig_hists[vari].integrate('region',region).integrate('process').integrate('tag'), stack=True,clear=False, fill_opts=fill_opts, ax=ax)\n",
    "\n",
    "\n",
    "\n",
    "#coffee = plt.text(0., 1., u\"☕ W(m) CR\", fontsize=20, horizontalalignment='left', verticalalignment='bottom', transform=ax.transAxes)\n",
    "ax._get_lines.prop_cycler = ax._get_patches_for_fill.prop_cycler\n",
    "args = {'linestyle':'--', 'linewidth': 5}\n",
    "ax.set_yscale('log')\n",
    "#ax.set_ylim(.0000001, 10)\n",
    "ax.set_ylim(0.1, 100000)\n",
    "#ax.set_xlim(0, 1300)"
   ]
  },
  {
   "cell_type": "code",
   "execution_count": 9,
   "metadata": {
    "scrolled": false
   },
   "outputs": [
    {
     "data": {
      "text/plain": [
       "(0.0, 1300.0)"
      ]
     },
     "execution_count": 9,
     "metadata": {},
     "output_type": "execute_result"
    },
    {
     "data": {
      "image/png": "[encoded data removed]",
      "text/plain": [
       "<Figure size 936x792 with 1 Axes>"
      ]
     },
     "metadata": {
      "needs_background": "light"
     },
     "output_type": "display_data"
    }
   ],
   "source": [
    "#########\n",
    "# scale (tag)\n",
    "#########\n",
    "from coffea.hist import plot\n",
    "from cycler import cycler\n",
    "\n",
    "#vari = \"leading_qWmatchedJet\"\n",
    "vari = ''\n",
    "\n",
    "#vari_ = \"qWmatchedJet\"\n",
    "#fname = \"TTTo2L2Nu_TuneCP5_13TeV-powheg-pythia8\" # \"Mphi-1700_Mchi-800\"\n",
    "fname = \"MET\"\n",
    "\n",
    "plt.rcParams.update({'figure.max_open_warning': 0,'font.size': 14, 'axes.titlesize': 18, 'axes.labelsize': 18, 'xtick.labelsize': 12, 'ytick.labelsize': 12})\n",
    "fig, ax = plt.subplots(figsize=(13,11))\n",
    "fill_opts = {'edgecolor': (0,0,0,0.3), 'alpha': 1}\n",
    "colors = ['#a6cee3', '#3130db', '#1f78b4', '#b2df8a', '#48e926', '#33a02c', '#c0df26',\n",
    "          '#fb9a99', '#d02ba7', '#e31a1c', '#fdbf6f', '#ff7f00', '#cab2d6', '#c64bc4',\n",
    "          '#6a3d9a', '#a9ce26', '#ffff99', '#b15928', '#edcc43']\n",
    "ax.set_prop_cycle(cycler(color=colors))\n",
    "tot = {}\n",
    "#tot[fname] = bkg_hists[vari].integrate('process').integrate('region').integrate('tag').sum(vari).values()[()]\n",
    "#tot[fname] = sig_hists[vari].integrate('process').integrate('region').sum(vari).values()[()]\n",
    "#bkg_hists[vari].scale({fname:1/tot[fname]},axis='process')\n",
    "\n",
    "##sig_hists[vari].scale({fname:1/tot[fname]},axis='process')\n",
    "#sig_hists[vari].integrate('region',region).rebin(vari_,5)\n",
    "#sig_hists[vari].integrate('region',region).rebin(vari,2)\n",
    "#####plot.plot1d(bkg_hists[vari].integrate('region',region).integrate('process').integrate('tag'), stack=True,clear=False, fill_opts=fill_opts, ax=ax)\n",
    "#plot.plot1d(sig_hists[vari].integrate('region',region).integrate('process'),overlay=\"tag\", stack=True,clear=False, fill_opts=fill_opts, ax=ax)\n",
    "#plot.plot1d(sig_hists[vari].integrate('region',region).integrate('tag').rebin(vari_,2),overlay='process', stack=True,clear=False, fill_opts=fill_opts,  ax=ax)\n",
    "plot.plot1d(data_hists['recoil'].integrate('region',region).integrate('process'),stack=True,clear=False, fill_opts=fill_opts, ax=ax)\n",
    "\n",
    "\n",
    "#coffee = plt.text(0., 1., u\"☕ W(m) CR\", fontsize=20, horizontalalignment='left', verticalalignment='bottom', transform=ax.transAxes)\n",
    "ax._get_lines.prop_cycler = ax._get_patches_for_fill.prop_cycler\n",
    "args = {'linestyle':'--', 'linewidth': 5}\n",
    "plt.grid(True)\n",
    "#ax.set_yscale('log')\n",
    "#ax.set_ylim(.00001, 10)\n",
    "#ax.set_ylim(.1, 100000)\n",
    "#plt.xticks(np.arange(0,1,0.1))\n",
    "ax.set_xlim(0, 1300)"
   ]
  },
  {
   "cell_type": "code",
   "execution_count": 20,
   "metadata": {
    "scrolled": true
   },
   "outputs": [
    {
     "data": {
      "text/plain": [
       "([<matplotlib.axis.XTick at 0x7fd8f29f4b00>,\n",
       "  <matplotlib.axis.XTick at 0x7fd8f29f46d8>,\n",
       "  <matplotlib.axis.XTick at 0x7fd8f29f4320>,\n",
       "  <matplotlib.axis.XTick at 0x7fd8f2a1ecc0>,\n",
       "  <matplotlib.axis.XTick at 0x7fd8f2a2a198>,\n",
       "  <matplotlib.axis.XTick at 0x7fd8f2a2a630>,\n",
       "  <matplotlib.axis.XTick at 0x7fd8f2a2aac8>,\n",
       "  <matplotlib.axis.XTick at 0x7fd8f2a2af60>,\n",
       "  <matplotlib.axis.XTick at 0x7fd8f2a2a748>,\n",
       "  <matplotlib.axis.XTick at 0x7fd8f29b0240>],\n",
       " [Text(0, 0, ''),\n",
       "  Text(0, 0, ''),\n",
       "  Text(0, 0, ''),\n",
       "  Text(0, 0, ''),\n",
       "  Text(0, 0, ''),\n",
       "  Text(0, 0, ''),\n",
       "  Text(0, 0, ''),\n",
       "  Text(0, 0, ''),\n",
       "  Text(0, 0, ''),\n",
       "  Text(0, 0, '')])"
      ]
     },
     "execution_count": 20,
     "metadata": {},
     "output_type": "execute_result"
    },
    {
     "data": {
      "image/png": "[encoded data removed]",
      "text/plain": [
       "<Figure size 936x792 with 1 Axes>"
      ]
     },
     "metadata": {
      "needs_background": "light"
     },
     "output_type": "display_data"
    }
   ],
   "source": [
    "#########\n",
    "# scale one variable\n",
    "#########\n",
    "from coffea.hist import plot\n",
    "from cycler import cycler\n",
    "\n",
    "#vari = \"ak8_tvsqcd\"\n",
    "vari = \"ak8_tvsqcd\"\n",
    "\n",
    "#vari_ = \"qWmatchedJet\"\n",
    "fname = \"Mphi-1700_Mchi-800\"\n",
    "\n",
    "plt.rcParams.update({'figure.max_open_warning': 0,'font.size': 14, 'axes.titlesize': 18, 'axes.labelsize': 18, 'xtick.labelsize': 12, 'ytick.labelsize': 12})\n",
    "fig, ax = plt.subplots(figsize=(13,11))\n",
    "fill_opts = {'edgecolor': (0,0,0,0.3), 'alpha': 1}\n",
    "colors = ['#a6cee3', '#3130db', '#1f78b4', '#b2df8a', '#48e926', '#33a02c', '#c0df26',\n",
    "          '#fb9a99', '#d02ba7', '#e31a1c', '#fdbf6f', '#ff7f00', '#cab2d6', '#c64bc4',\n",
    "          '#6a3d9a', '#a9ce26', '#ffff99', '#b15928', '#edcc43']\n",
    "ax.set_prop_cycle(cycler(color=colors))\n",
    "tot = {}\n",
    "##tot[fname] = sig_hists[vari].integrate('process').integrate('region').sum(vari).values()[()]\n",
    "tot[fname] = bkg_hists[vari].integrate('process').integrate('region').sum(vari).values()[()]\n",
    "\n",
    "#tot[fname] = sig_hists[vari].integrate('process').integrate('region').sum(vari).values()[()]\n",
    "##sig_hists[vari].scale({fname:1/tot[fname]},axis='process')\n",
    "bkg_hists[vari].scale({fname:1/tot[fname]},axis='process')\n",
    "#sig_hists[vari].integrate('region',region).rebin(vari_,5)\n",
    "#sig_hists[vari].integrate('region',region).rebin(vari,2)\n",
    "#plot.plot1d(sig_hists[vari].integrate('region',region).integrate('process'), stack=True,clear=False, fill_opts=fill_opts, ax=ax)\n",
    "##plot.plot1d(sig_hists[vari].integrate('region',region).integrate('process'), stack=True,clear=False, fill_opts=fill_opts, ax=ax)\n",
    "plot.plot1d(bkg_hists[vari].integrate('region',region).integrate('process'), stack=True,clear=False, fill_opts=fill_opts, ax=ax)\n",
    "\n",
    "#plot.plot1d(sig_hists[vari].integrate('region',region).integrate('tag').rebin(vari_,2),overlay='process', stack=True,clear=False, fill_opts=fill_opts,  ax=ax)\n",
    "\n",
    "\n",
    "\n",
    "#coffee = plt.text(0., 1., u\"☕ W(m) CR\", fontsize=20, horizontalalignment='left', verticalalignment='bottom', transform=ax.transAxes)\n",
    "ax._get_lines.prop_cycler = ax._get_patches_for_fill.prop_cycler\n",
    "args = {'linestyle':'--', 'linewidth': 5}\n",
    "plt.grid(True)\n",
    "#ax.set_yscale('log')\n",
    "#ax.set_ylim(.00001, 10)\n",
    "ax.set_xlabel(\"TvsQCD (leading AK8 jet)\")\n",
    "plt.xticks(np.arange(0,1,0.1))\n",
    "#ax.set_xlim(0, 1300)"
   ]
  },
  {
   "cell_type": "code",
   "execution_count": 14,
   "metadata": {
    "scrolled": true
   },
   "outputs": [
    {
     "name": "stdout",
     "output_type": "stream",
     "text": [
      "<Hist (ak8_leading_qWmatchedJet) instance at 0x7f7f36007048>\n",
      "<Hist (ak8_leading_qWmatchedJet) instance at 0x7f7f36007320>\n",
      "sum_bins_arr:  [32483. 17697. 16210. 15238. 14563. 13984. 13547. 13164. 12793. 12501.\n",
      " 12224. 11975. 11758. 11526. 11315. 11121. 10952. 10789. 10621. 10470.\n",
      " 10323. 10197. 10063.  9947.  9833.  9727.  9634.  9527.  9437.  9332.\n",
      "  9250.  9135.  9057.  8968.  8885.  8790.  8703.  8622.  8529.  8457.\n",
      "  8381.  8301.  8227.  8149.  8065.  8003.  7915.  7844.  7779.  7723.\n",
      "  7645.  7578.  7519.  7459.  7405.  7330.  7265.  7200.  7145.  7096.\n",
      "  7039.  6981.  6921.  6856.  6803.  6734.  6663.  6601.  6541.  6485.\n",
      "  6419.  6351.  6276.  6197.  6139.  6070.  5996.  5930.  5859.  5806.\n",
      "  5738.  5665.  5579.  5506.  5437.  5357.  5256.  5157.  5050.  4950.\n",
      "  4848.  4719.  4582.  4473.  4325.  4158.  3942.  3709.  3382.  2873.]\n",
      "tot[fname]:  32483.0\n"
     ]
    },
    {
     "data": {
      "text/plain": [
       "([<matplotlib.axis.YTick at 0x7f7f35fc1ef0>,\n",
       "  <matplotlib.axis.YTick at 0x7f7f35fc1ac8>,\n",
       "  <matplotlib.axis.YTick at 0x7f7f35fbac50>,\n",
       "  <matplotlib.axis.YTick at 0x7f7f33f8c710>,\n",
       "  <matplotlib.axis.YTick at 0x7f7f33f805f8>,\n",
       "  <matplotlib.axis.YTick at 0x7f7f33f93438>,\n",
       "  <matplotlib.axis.YTick at 0x7f7f33f938d0>,\n",
       "  <matplotlib.axis.YTick at 0x7f7f33f93d68>,\n",
       "  <matplotlib.axis.YTick at 0x7f7f33f9d240>,\n",
       "  <matplotlib.axis.YTick at 0x7f7f33f9d6d8>],\n",
       " [Text(0, 0, ''),\n",
       "  Text(0, 0, ''),\n",
       "  Text(0, 0, ''),\n",
       "  Text(0, 0, ''),\n",
       "  Text(0, 0, ''),\n",
       "  Text(0, 0, ''),\n",
       "  Text(0, 0, ''),\n",
       "  Text(0, 0, ''),\n",
       "  Text(0, 0, ''),\n",
       "  Text(0, 0, '')])"
      ]
     },
     "execution_count": 14,
     "metadata": {},
     "output_type": "execute_result"
    },
    {
     "data": {
      "image/png": "[encoded data removed]",
      "text/plain": [
       "<Figure size 792x648 with 1 Axes>"
      ]
     },
     "metadata": {
      "needs_background": "light"
     },
     "output_type": "display_data"
    }
   ],
   "source": [
    "# nume/deno\n",
    "from coffea.hist import plot\n",
    "\n",
    "vari = \"ak8_leading_qWmatchedJet\" # \"leading_qWmatchedJet\"\n",
    "vari_ = \"ak8_leading_qWmatchedJet\" # \"qWmatchedJet\"\n",
    "fname =  \"Mphi-1700_Mchi-800\"\n",
    "\n",
    "denominator = sig_hists[vari].integrate('process').integrate('region','sr').integrate('tag')\n",
    "numerator   = sig_hists[vari].integrate('process').integrate('region','sr').integrate('tag','pass')\n",
    "\n",
    "print(denominator)\n",
    "print(numerator)\n",
    "\n",
    "sum_bins = list()\n",
    "for n in range(len(denominator.values()[()])):\n",
    "    sum_bins.append(denominator.values()[()][n:].sum())\n",
    "    \n",
    "sum_bins_arr = np.array(sum_bins)\n",
    "print('sum_bins_arr: ',sum_bins_arr)\n",
    "\n",
    "numerator_sum = hist.Hist(\n",
    "    'Events',\n",
    "    hist.Cat('dataset', 'Dataset'),\n",
    "    hist.Bin('nume_sum', 'TvsQCD', 100, sum_bins_arr.min(),sum_bins_arr.max())\n",
    ")\n",
    "numerator_sum.fill(dataset = fname, nume_sum=sum_bins_arr)\n",
    "\n",
    "tot = {}\n",
    "tot[fname] = sig_hists[vari].integrate('process').integrate('region','sr').integrate('tag').sum(vari_).values()[()]\n",
    "print('tot[fname]: ', tot[fname])\n",
    "\n",
    "hhh = sum_bins_arr/tot[fname]\n",
    "ggg = np.arange(0,1,0.01)\n",
    "\n",
    "plt.rcParams.update({'figure.max_open_warning': 0,'font.size': 14, 'axes.titlesize': 18, 'axes.labelsize': 18, 'xtick.labelsize': 12, 'ytick.labelsize': 12, 'figure.figsize':(11,9)})\n",
    "plt.grid(True)\n",
    "\n",
    "plt.ylabel('Ratio (dR (fatjet, top) < 0.8 / total)')\n",
    "plt.xlabel('TvsQCD')\n",
    "\n",
    "plt.plot(ggg,hhh,'k.')\n",
    "#plt.plot(hhh,'k.')\n",
    "\n",
    "plt.xticks(np.arange(0,1,0.1))\n",
    "plt.yticks(np.arange(0,1,0.1))\n",
    "\n"
   ]
  },
  {
   "cell_type": "code",
   "execution_count": 19,
   "metadata": {},
   "outputs": [
    {
     "data": {
      "text/plain": [
       "<AxesSubplot:xlabel='AK15 Leading Jet Pt', ylabel='Events'>"
      ]
     },
     "execution_count": 19,
     "metadata": {},
     "output_type": "execute_result"
    },
    {
     "data": {
      "image/png": "[encoded data removed]",
      "text/plain": [
       "<Figure size 432x288 with 1 Axes>"
      ]
     },
     "metadata": {
      "needs_background": "light"
     },
     "output_type": "display_data"
    }
   ],
   "source": [
    "from coffea.hist import plot\n",
    "\n",
    "plot.plot1d(bkg_hists[vari].integrate('region',region), stack=True)\n"
   ]
  },
  {
   "cell_type": "code",
   "execution_count": 18,
   "metadata": {},
   "outputs": [
    {
     "data": {
      "image/png": "[encoded data removed]",
      "text/plain": [
       "<Figure size 792x936 with 2 Axes>"
      ]
     },
     "metadata": {
      "needs_background": "light"
     },
     "output_type": "display_data"
    }
   ],
   "source": [
    "from cycler import cycler\n",
    "from coffea.hist import plot\n",
    "\n",
    "#vari = 'recoil'\n",
    "vari = 'njets'\n",
    "#vari = 'mu_pT'\n",
    "region = 'sr'\n",
    "\n",
    "if 'e' in region:\n",
    "    data = 'EGamma'\n",
    "else:\n",
    "    data = 'MET'\n",
    "#data = 'EGamma' \n",
    "#data = 'MET' \n",
    "#data = 'MET'\n",
    "\n",
    "plt.rcParams.update({'figure.max_open_warning': 0,'font.size': 14, 'axes.titlesize': 18, 'axes.labelsize': 18, 'xtick.labelsize': 12, 'ytick.labelsize': 12})\n",
    "fill_opts = {'edgecolor': (0,0,0,0.3), 'alpha': 1}\n",
    "error_opts = {'label':'Stat. Unc.', 'hatch':'///', 'facecolor':'none', 'edgecolor':(0,0,0,.5), 'linewidth': 0}\n",
    "nostack_fill_opts = {'alpha': 0.2, 'label': '_nolabel_'}\n",
    "data_err_opts = {'linestyle':'None', 'marker': '.', 'markersize': 10., 'color':'k'}#, 'elinewidth': 1, 'emarker': '_'}\n",
    "colors = ['#a6cee3', '#3130db', '#1f78b4', '#b2df8a', '#48e926', '#33a02c', '#c0df26',\n",
    "          '#fb9a99', '#d02ba7', '#e31a1c', '#fdbf6f', '#ff7f00', '#cab2d6', '#c64bc4',\n",
    "          '#6a3d9a', '#a9ce26', '#ffff99', '#b15928', '#edcc43']\n",
    "fig, (ax, rax) = plt.subplots(2, 1, figsize=(11,13), gridspec_kw={\"height_ratios\": (3, 1)}, sharex=True)\n",
    "fig.subplots_adjust(hspace=.07)\n",
    "ax.set_prop_cycle(cycler(color=colors))\n",
    "\n",
    "plot.plot1d(data_hists[vari].integrate('region', region),#[data[year][str(j)]],\n",
    "            overlay=\"process\",\n",
    "            ax=ax,\n",
    "            overflow='over',\n",
    "            clear=False,\n",
    "            error_opts=data_err_opts\n",
    "           )\n",
    "\n",
    "plot.plot1d(bkg_hists[vari].integrate('region', region),\n",
    "            overlay=\"process\",\n",
    "            ax=ax,\n",
    "            overflow='over',\n",
    "            clear=False,\n",
    "            stack=True,\n",
    "            fill_opts=fill_opts,\n",
    "            error_opts=error_opts\n",
    "           )\n",
    "\n",
    "plot.plotratio(data_hists[vari].integrate('region', region).integrate('process', data),\n",
    "               bkg_hists[vari].integrate('region', region).sum('process'),\n",
    "               ax=rax,\n",
    "               overflow='over',\n",
    "               error_opts=data_err_opts,\n",
    "               denom_fill_opts={},\n",
    "               guide_opts={},\n",
    "               unc='num'\n",
    "              )\n",
    "\n",
    "rax.set_ylabel('Ratio (data/MC)')\n",
    "rax.set_ylim(0.0,2.0)\n",
    "rax.grid(axis='y')\n",
    "\n",
    "ax._get_lines.prop_cycler = ax._get_patches_for_fill.prop_cycler\n",
    "coffee = plt.text(0., 1., u\"☕ \"+region, fontsize=20, horizontalalignment='left', verticalalignment='bottom', transform=ax.transAxes)\n",
    "args = {'linestyle':'--', 'linewidth': 5}\n",
    "ax.autoscale(axis='x', tight=True)\n",
    "ax.set_yscale('log')\n",
    "ax.set_ylim(.1, 10000000)\n",
    "#ax.set_ylim(.1, 10000)\n",
    "#ax.set_xlim(0, 1500)\n",
    "leg = ax.legend(ncol=2, loc='best')"
   ]
  },
  {
   "cell_type": "code",
   "execution_count": 16,
   "metadata": {},
   "outputs": [
    {
     "data": {
      "text/plain": [
       "[<StringBin (sr) instance at 0x7f81b876d9e8>]"
      ]
     },
     "execution_count": 16,
     "metadata": {},
     "output_type": "execute_result"
    }
   ],
   "source": [
    "sig_hists[vari].identifiers('region')"
   ]
  },
  {
   "cell_type": "code",
   "execution_count": 17,
   "metadata": {},
   "outputs": [
    {
     "name": "stdout",
     "output_type": "stream",
     "text": [
      "sr\n"
     ]
    },
    {
     "data": {
      "text/plain": [
       "{(): array([0., 0., 0., 0., 0., 0., 0., 0., 0., 0., 0., 0., 0., 0., 0., 0., 0.,\n",
       "        0., 0., 0., 0., 0.])}"
      ]
     },
     "execution_count": 17,
     "metadata": {},
     "output_type": "execute_result"
    }
   ],
   "source": [
    "for region in sig_hists[vari].identifiers('region'):\n",
    "    print(region)\n",
    "sig_hists[vari].integrate('process').integrate('region','sr').values()"
   ]
  },
  {
   "cell_type": "code",
   "execution_count": 18,
   "metadata": {},
   "outputs": [
    {
     "data": {
      "text/plain": [
       "<AxesSubplot:xlabel='Hadronic Recoil', ylabel='Events'>"
      ]
     },
     "execution_count": 18,
     "metadata": {},
     "output_type": "execute_result"
    },
    {
     "data": {
      "image/png": "[encoded data removed]",
      "text/plain": [
       "<Figure size 432x288 with 1 Axes>"
      ]
     },
     "metadata": {
      "needs_background": "light"
     },
     "output_type": "display_data"
    }
   ],
   "source": [
    "plot.plot1d(sig_hists[vari].integrate('process').integrate('region','sr'), stack=True)\n"
   ]
  },
  {
   "cell_type": "code",
   "execution_count": 63,
   "metadata": {},
   "outputs": [
    {
     "data": {
      "text/plain": [
       "[<StringBin (MET) instance at 0x7f7b6087b400>,\n",
       " <StringBin (EGamma) instance at 0x7f7b6087b518>]"
      ]
     },
     "execution_count": 63,
     "metadata": {},
     "output_type": "execute_result"
    }
   ],
   "source": [
    "data_hists[vari].identifiers('process')"
   ]
  },
  {
   "cell_type": "code",
   "execution_count": 64,
   "metadata": {},
   "outputs": [
    {
     "data": {
      "text/plain": [
       "{('EGamma',): array([   0.,    0.,    0.,    0., 1427., 2954., 6198., 6530., 7829.,\n",
       "        8294., 7627., 6752., 5607., 5830., 4318., 3156., 2375., 2008.,\n",
       "        1345.,  916.,  613.,  488.,  375.,  266.,  187.,  115.,   98.,\n",
       "          67.])}"
      ]
     },
     "execution_count": 64,
     "metadata": {},
     "output_type": "execute_result"
    }
   ],
   "source": [
    "data_hists[vari].integrate('region',region).values()"
   ]
  },
  {
   "cell_type": "code",
   "execution_count": 3,
   "metadata": {},
   "outputs": [
    {
     "data": {
      "text/plain": [
       "<AxesSubplot:xlabel='AK4 Number of Jets', ylabel='Events'>"
      ]
     },
     "execution_count": 3,
     "metadata": {},
     "output_type": "execute_result"
    },
    {
     "data": {
      "image/png": "[encoded data removed]",
      "text/plain": [
       "<Figure size 432x288 with 1 Axes>"
      ]
     },
     "metadata": {
      "needs_background": "light"
     },
     "output_type": "display_data"
    }
   ],
   "source": [
    "from coffea.hist import plot\n",
    "\n",
    "plot.plot1d(bkg_hists['njets'].integrate('region','sr'), stack=True)\n"
   ]
  },
  {
   "cell_type": "code",
   "execution_count": 4,
   "metadata": {},
   "outputs": [
    {
     "data": {
      "text/plain": [
       "{('QCD',\n",
       "  'sr'): array([     0.        ,      0.        ,      0.        ,      0.        ,\n",
       "             0.        ,      0.        ,  17490.07960643,      0.        ,\n",
       "             0.        ,      0.        ,  27951.81051271,  15229.39168187,\n",
       "         17042.84307236,  42905.93676023,  25190.97257256,  25180.99410186,\n",
       "         25117.0117154 , 101997.9402734 ,      0.        ,      0.        ,\n",
       "             0.        ,  46872.71538726,  25347.92036427,  67019.96550927,\n",
       "         22044.48712428,      0.        ,      0.        ,  14421.13176698,\n",
       "             0.        ,      0.        ,      0.        ,      0.        ,\n",
       "             0.        ,      0.        ,      0.        ])}"
      ]
     },
     "execution_count": 4,
     "metadata": {},
     "output_type": "execute_result"
    }
   ],
   "source": [
    "bkg_hists['j1eta'].values()#.identifiers('sumw')"
   ]
  },
  {
   "cell_type": "code",
   "execution_count": 13,
   "metadata": {},
   "outputs": [
    {
     "data": {
      "text/plain": [
       "{'ele_phi': <Hist (process,region,ele_phi) instance at 0x7f160c519828>,\n",
       " 'sumw': <Hist (process,sumw) instance at 0x7f1537599be0>,\n",
       " 'j1pt': <Hist (process,region,j1pt) instance at 0x7f1537599f28>,\n",
       " 'ndflvM': <Hist (process,region,ndflvM) instance at 0x7f153759c390>,\n",
       " 'dr_mu_lj': <Hist (process,region,dr_mu_lj) instance at 0x7f153759c780>,\n",
       " 'ele_pT': <Hist (process,region,ele_pT) instance at 0x7f153759cd68>,\n",
       " 'dibjeteta': <Hist (process,region,dibjeteta) instance at 0x7f153759f358>,\n",
       " 'mu_eta': <Hist (process,region,mu_eta) instance at 0x7f153759f748>,\n",
       " 'dibjetphi': <Hist (process,region,dibjetphi) instance at 0x7f153759fd30>,\n",
       " 'j1phi': <Hist (process,region,j1phi) instance at 0x7f15372ce160>,\n",
       " 'cutflow': <Hist (process,region,cut) instance at 0x7f15372ce780>,\n",
       " 'ndflvL': <Hist (process,region,ndflvL) instance at 0x7f15372cedd8>,\n",
       " 'njets': <Hist (process,region,njets) instance at 0x7f15372d5240>,\n",
       " 'mu_phi': <Hist (process,region,mu_phi) instance at 0x7f15372d5860>,\n",
       " 'dibjetmass': <Hist (process,region,dibjetmass) instance at 0x7f15372d5e10>,\n",
       " 'ele_eta': <Hist (process,region,ele_eta) instance at 0x7f15372d9240>,\n",
       " 'dr_e_lj': <Hist (process,region,dr_e_lj) instance at 0x7f15372d9860>,\n",
       " 'nbjets': <Hist (process,region,nbjets) instance at 0x7f15372d9e48>,\n",
       " 'ndcsvM': <Hist (process,region,ndcsvM) instance at 0x7f15372dd470>,\n",
       " 'j1eta': <Hist (process,region,j1eta) instance at 0x7f15372dd898>,\n",
       " 'mu_pT': <Hist (process,region,mu_pT) instance at 0x7f15372ddeb8>}"
      ]
     },
     "execution_count": 13,
     "metadata": {},
     "output_type": "execute_result"
    }
   ],
   "source": [
    "bkg_hists"
   ]
  },
  {
   "cell_type": "code",
   "execution_count": 22,
   "metadata": {},
   "outputs": [
    {
     "name": "stdout",
     "output_type": "stream",
     "text": [
      "{(): array([1.00883761e+13, 1.00868412e+13, 0.00000000e+00, 0.00000000e+00,\n",
      "       0.00000000e+00, 0.00000000e+00, 0.00000000e+00, 0.00000000e+00,\n",
      "       0.00000000e+00, 0.00000000e+00, 0.00000000e+00, 0.00000000e+00,\n",
      "       0.00000000e+00, 0.00000000e+00, 0.00000000e+00, 0.00000000e+00,\n",
      "       0.00000000e+00])}\n"
     ]
    }
   ],
   "source": [
    "print(bkg_hists['cutflow'].integrate('process').integrate('region').values())"
   ]
  },
  {
   "cell_type": "code",
   "execution_count": null,
   "metadata": {},
   "outputs": [],
   "source": []
  }
 ],
 "metadata": {
  "kernelspec": {
   "display_name": "Python 3",
   "language": "python",
   "name": "python3"
  },
  "language_info": {
   "codemirror_mode": {
    "name": "ipython",
    "version": 3
   },
   "file_extension": ".py",
   "mimetype": "text/x-python",
   "name": "python",
   "nbconvert_exporter": "python",
   "pygments_lexer": "ipython3",
   "version": "3.6.5"
  }
 },
 "nbformat": 4,
 "nbformat_minor": 2
}
